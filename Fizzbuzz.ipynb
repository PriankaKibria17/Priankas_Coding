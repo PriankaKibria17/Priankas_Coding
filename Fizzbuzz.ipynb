{
  "nbformat": 4,
  "nbformat_minor": 0,
  "metadata": {
    "colab": {
      "name": "Fizzbuzz.ipynb",
      "provenance": [],
      "authorship_tag": "ABX9TyNivTADLXTEnTi1LwiOquzJ",
      "include_colab_link": true
    },
    "kernelspec": {
      "name": "python3",
      "display_name": "Python 3"
    },
    "language_info": {
      "name": "python"
    }
  },
  "cells": [
    {
      "cell_type": "markdown",
      "metadata": {
        "id": "view-in-github",
        "colab_type": "text"
      },
      "source": [
        "<a href=\"https://colab.research.google.com/github/PriankaKibria17/Coursera-test/blob/main/Fizzbuzz.ipynb\" target=\"_parent\"><img src=\"https://colab.research.google.com/assets/colab-badge.svg\" alt=\"Open In Colab\"/></a>"
      ]
    },
    {
      "cell_type": "code",
      "source": [
        "for num in range(1,21):\n",
        "    string = \"\"\n",
        "    if num % 3 == 0:\n",
        "        string = string + \"Fizz\"\n",
        "    if num % 5 == 0:\n",
        "        string = string + \"Buzz\"\n",
        "    if num % 5 != 0 and num % 3 != 0:\n",
        "        string = string + str(num)\n",
        "    print(string)"
      ],
      "metadata": {
        "colab": {
          "base_uri": "https://localhost:8080/"
        },
        "id": "rQLbR6hUE5IB",
        "outputId": "8538bbf5-d40f-42f6-b4aa-979cdee22073"
      },
      "execution_count": 25,
      "outputs": [
        {
          "output_type": "stream",
          "name": "stdout",
          "text": [
            "1\n",
            "2\n",
            "Fizz\n",
            "4\n",
            "Buzz\n",
            "Fizz\n",
            "7\n",
            "8\n",
            "Fizz\n",
            "Buzz\n",
            "11\n",
            "Fizz\n",
            "13\n",
            "14\n",
            "FizzBuzz\n",
            "16\n",
            "17\n",
            "Fizz\n",
            "19\n",
            "Buzz\n"
          ]
        }
      ]
    }
  ]
}