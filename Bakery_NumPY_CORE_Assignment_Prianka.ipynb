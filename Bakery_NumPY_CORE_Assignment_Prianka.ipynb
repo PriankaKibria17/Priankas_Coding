{
  "nbformat": 4,
  "nbformat_minor": 0,
  "metadata": {
    "colab": {
      "name": "Bakery NumPY CORE Assignment_Prianka",
      "provenance": [],
      "collapsed_sections": [],
      "authorship_tag": "ABX9TyNmm/8w/cGtLvzR9mcrN3Xx",
      "include_colab_link": true
    },
    "kernelspec": {
      "name": "python3",
      "display_name": "Python 3"
    },
    "language_info": {
      "name": "python"
    }
  },
  "cells": [
    {
      "cell_type": "markdown",
      "metadata": {
        "id": "view-in-github",
        "colab_type": "text"
      },
      "source": [
        "<a href=\"https://colab.research.google.com/github/PriankaKibria17/Coursera-test/blob/main/Bakery_NumPY_CORE_Assignment_Prianka.ipynb\" target=\"_parent\"><img src=\"https://colab.research.google.com/assets/colab-badge.svg\" alt=\"Open In Colab\"/></a>"
      ]
    },
    {
      "cell_type": "markdown",
      "source": [
        "Teens for a tech club asked to help analyze data for their bake sale. They are hoping to raise $200."
      ],
      "metadata": {
        "id": "fBU9HQcdONWb"
      }
    },
    {
      "cell_type": "code",
      "source": [
        "# Selling prices are 2 dollars brownies, 1 for a cookie, 10 for a cake\n",
        "# Assigning the values to a list named price\n",
        "price = [2, 1, 10]\n",
        "type(price)"
      ],
      "metadata": {
        "colab": {
          "base_uri": "https://localhost:8080/"
        },
        "id": "DXi4LRLPOVNB",
        "outputId": "e1d3e788-fb39-46c6-c710-f0f7b6c27603"
      },
      "execution_count": null,
      "outputs": [
        {
          "output_type": "execute_result",
          "data": {
            "text/plain": [
              "list"
            ]
          },
          "metadata": {},
          "execution_count": 98
        }
      ]
    },
    {
      "cell_type": "code",
      "source": [
        "# The club sells 17 brownies, 40 cookies and 1 cake\n",
        "# Assigning the values to a list named quantity_sold\n",
        "quantity_sold = [17, 40, 1]\n",
        "type(quantity_sold)"
      ],
      "metadata": {
        "colab": {
          "base_uri": "https://localhost:8080/"
        },
        "id": "PAmJlnaiPauX",
        "outputId": "c7fb037b-f413-49b2-ba2e-8eebafacac64"
      },
      "execution_count": null,
      "outputs": [
        {
          "output_type": "execute_result",
          "data": {
            "text/plain": [
              "list"
            ]
          },
          "metadata": {},
          "execution_count": 99
        }
      ]
    },
    {
      "cell_type": "code",
      "source": [
        "# importing numpy\n",
        "import numpy as np "
      ],
      "metadata": {
        "id": "0tWtmRcRRGaV"
      },
      "execution_count": null,
      "outputs": []
    },
    {
      "cell_type": "code",
      "source": [
        "# converting a list to a numpy array\n",
        "price_array = np.array(price)\n",
        "quantity_sold_array = np.array(quantity_sold)\n",
        "type(price_array)"
      ],
      "metadata": {
        "colab": {
          "base_uri": "https://localhost:8080/"
        },
        "id": "Ct2cqcGFR558",
        "outputId": "ad3876d3-c7f0-4bd5-aa2b-889c2a39e22d"
      },
      "execution_count": null,
      "outputs": [
        {
          "output_type": "execute_result",
          "data": {
            "text/plain": [
              "numpy.ndarray"
            ]
          },
          "metadata": {},
          "execution_count": 101
        }
      ]
    },
    {
      "cell_type": "code",
      "source": [
        "# Now we can perform calculations w/arrays\n",
        "price_array * quantity_sold_array"
      ],
      "metadata": {
        "colab": {
          "base_uri": "https://localhost:8080/"
        },
        "id": "4x3v4mgkSkQl",
        "outputId": "27a086ff-bb15-4a6e-e04a-0c6d11d0304a"
      },
      "execution_count": null,
      "outputs": [
        {
          "output_type": "execute_result",
          "data": {
            "text/plain": [
              "array([34, 40, 10])"
            ]
          },
          "metadata": {},
          "execution_count": 102
        }
      ]
    },
    {
      "cell_type": "code",
      "source": [
        "# numpy array that corresponds to the cost to make ea. of the items sold at a bake sale\n",
        "# Price to make ea. item a brownie 0.25, cookie 0.50, cake 5 dollars\n",
        "cost_array = np.array( [0.25, 0.50, 5.00] )"
      ],
      "metadata": {
        "id": "zPr4oQrkWBBz"
      },
      "execution_count": null,
      "outputs": []
    },
    {
      "cell_type": "code",
      "source": [
        "# Subtracting to find the profit of ea. item \n",
        "profit_array = price_array - cost_array\n",
        "print(profit_array)"
      ],
      "metadata": {
        "colab": {
          "base_uri": "https://localhost:8080/"
        },
        "id": "Bbxds_hYXbVA",
        "outputId": "a6f214ec-0638-4d36-9de3-338eed32ac28"
      },
      "execution_count": null,
      "outputs": [
        {
          "output_type": "stream",
          "name": "stdout",
          "text": [
            "[1.75 0.5  5.  ]\n"
          ]
        }
      ]
    },
    {
      "cell_type": "code",
      "source": [
        "# Identifying which items made a profit greater than $2 per item\n",
        "# By asking a T/F statement for ea. element\n",
        "profit_array > 2.00"
      ],
      "metadata": {
        "colab": {
          "base_uri": "https://localhost:8080/"
        },
        "id": "Mlp9mCZyZA8z",
        "outputId": "0f289875-ae75-4ded-f1cc-bba3fbb0b6cf"
      },
      "execution_count": null,
      "outputs": [
        {
          "output_type": "execute_result",
          "data": {
            "text/plain": [
              "array([False, False,  True])"
            ]
          },
          "metadata": {},
          "execution_count": 105
        }
      ]
    },
    {
      "cell_type": "code",
      "source": [
        "# Need to update that we also sell pies for $7 so we need to update our price array\n",
        "# the below will not give the output we want because it will add 7 to each of our array\n",
        "price_array = price_array + 7\n",
        "print(price_array)"
      ],
      "metadata": {
        "colab": {
          "base_uri": "https://localhost:8080/"
        },
        "id": "0_x47LTWaJ7i",
        "outputId": "4434d536-58ec-4bd4-f75c-860481aca96c"
      },
      "execution_count": null,
      "outputs": [
        {
          "output_type": "stream",
          "name": "stdout",
          "text": [
            "[ 9  8 17]\n"
          ]
        }
      ]
    },
    {
      "cell_type": "code",
      "source": [
        "# To fix the added 7 to each element we will subtract\n",
        "price_array = price_array - [7]"
      ],
      "metadata": {
        "id": "v-kJqF1IbjpU"
      },
      "execution_count": null,
      "outputs": []
    },
    {
      "cell_type": "code",
      "source": [
        "# using the np.append functionto include the value as previously desired\n",
        "price_array = np.append(price_array, 7)\n",
        "print(price_array)"
      ],
      "metadata": {
        "colab": {
          "base_uri": "https://localhost:8080/"
        },
        "id": "bQaJ7Y9zT21p",
        "outputId": "500c8656-5fcd-43e8-d364-34a635fd6129"
      },
      "execution_count": null,
      "outputs": [
        {
          "output_type": "stream",
          "name": "stdout",
          "text": [
            "[ 2  1 10  7]\n"
          ]
        }
      ]
    },
    {
      "cell_type": "code",
      "source": [
        "# you can append multiple values at once to the array in one command using brackets\n",
        "# note the use of np.append\n",
        "# Note the use of square brackets in the code that appends all of the values\n",
        "# adding $4.50 for fudge, $3 for cupcake, $4 for loaf of banana and $9 for tarte\n",
        "price_array = np.append(price_array,[4.50,3,4,9] )\n",
        "print(price_array)"
      ],
      "metadata": {
        "colab": {
          "base_uri": "https://localhost:8080/"
        },
        "id": "J3pWMlI7d60c",
        "outputId": "17b1bb90-fb39-4b58-dfbb-768dd3bf83e6"
      },
      "execution_count": null,
      "outputs": [
        {
          "output_type": "stream",
          "name": "stdout",
          "text": [
            "[ 2.   1.  10.   7.   4.5  3.   4.   9. ]\n"
          ]
        }
      ]
    },
    {
      "cell_type": "code",
      "source": [
        "# To check data type of elements within the array\n",
        "print(price_array.dtype)"
      ],
      "metadata": {
        "colab": {
          "base_uri": "https://localhost:8080/"
        },
        "id": "nVeosv2jf7ht",
        "outputId": "7be2624d-8a03-472f-d905-087d2ba36cd2"
      },
      "execution_count": null,
      "outputs": [
        {
          "output_type": "stream",
          "name": "stdout",
          "text": [
            "float64\n"
          ]
        }
      ]
    },
    {
      "cell_type": "code",
      "source": [
        "# deleting price from the array\n",
        "# no tortes\n",
        "# note the use of np.delete command & indication of what exactly is being deleted\n",
        "price_array = np.delete(price_array, -1)\n",
        "print(price_array)"
      ],
      "metadata": {
        "colab": {
          "base_uri": "https://localhost:8080/"
        },
        "id": "9yNG3uJwhzFw",
        "outputId": "97351670-333e-4c3e-b6d1-45817991e5ed"
      },
      "execution_count": null,
      "outputs": [
        {
          "output_type": "stream",
          "name": "stdout",
          "text": [
            "[ 2.   1.  10.   7.   4.5  3.   4. ]\n"
          ]
        }
      ]
    },
    {
      "cell_type": "code",
      "source": [
        "# we want to replace an element\n",
        "# price change for cakes from 10 to 12\n",
        "# note the index - cake is index 2\n",
        "price_array[2] = 12\n",
        "print(price_array)"
      ],
      "metadata": {
        "colab": {
          "base_uri": "https://localhost:8080/"
        },
        "id": "QHkpVmBAixun",
        "outputId": "b9345ddc-a436-41ae-ce7f-4e51edf0c728"
      },
      "execution_count": null,
      "outputs": [
        {
          "output_type": "stream",
          "name": "stdout",
          "text": [
            "[ 2.   1.  12.   7.   4.5  3.   4. ]\n"
          ]
        }
      ]
    },
    {
      "cell_type": "code",
      "source": [
        "# updating quantity sold array to include 2 pies, 3 trays of fudge, 16 cupcakes, and 5 loaves of BBread\n",
        "quantity_sold_array = np.append(quantity_sold_array,[2,3,16,5] )\n",
        "print(quantity_sold_array)"
      ],
      "metadata": {
        "colab": {
          "base_uri": "https://localhost:8080/"
        },
        "id": "wIobCItOJKeJ",
        "outputId": "4709e251-7af0-4109-ad04-bd5ceeef4aa4"
      },
      "execution_count": null,
      "outputs": [
        {
          "output_type": "stream",
          "name": "stdout",
          "text": [
            "[17 40  1  2  3 16  5]\n"
          ]
        }
      ]
    },
    {
      "cell_type": "code",
      "source": [
        "# editing cookies from 40 to 39\n",
        "quantity_sold_array[1] = 39\n",
        "print(quantity_sold_array)"
      ],
      "metadata": {
        "colab": {
          "base_uri": "https://localhost:8080/"
        },
        "id": "yPTZQBABJ3Pg",
        "outputId": "6d3a6f5e-29a8-46e5-c458-21d028b50420"
      },
      "execution_count": null,
      "outputs": [
        {
          "output_type": "stream",
          "name": "stdout",
          "text": [
            "[17 39  1  2  3 16  5]\n"
          ]
        }
      ]
    },
    {
      "cell_type": "code",
      "source": [
        "# Money collected from sales of ea. item at the bake sale\n",
        "money_collected_bakesale = quantity_sold_array * price_array"
      ],
      "metadata": {
        "id": "NaccHVDQKJHi"
      },
      "execution_count": null,
      "outputs": []
    },
    {
      "cell_type": "code",
      "source": [
        "money_collected_bakesale"
      ],
      "metadata": {
        "colab": {
          "base_uri": "https://localhost:8080/"
        },
        "id": "BOiB1nn6OfeJ",
        "outputId": "a8923983-1783-491c-d73f-2fb87065e288"
      },
      "execution_count": null,
      "outputs": [
        {
          "output_type": "execute_result",
          "data": {
            "text/plain": [
              "array([34. , 39. , 12. , 14. , 13.5, 48. , 20. ])"
            ]
          },
          "metadata": {},
          "execution_count": 116
        }
      ]
    },
    {
      "cell_type": "code",
      "source": [
        "quantity_left_over = [0,0,2,1,6,0,2]\n",
        "type(quantity_left_over)"
      ],
      "metadata": {
        "colab": {
          "base_uri": "https://localhost:8080/"
        },
        "id": "B9G2bI0pKW40",
        "outputId": "358cca6f-4a73-408d-d680-a0adbe631f6e"
      },
      "execution_count": null,
      "outputs": [
        {
          "output_type": "execute_result",
          "data": {
            "text/plain": [
              "list"
            ]
          },
          "metadata": {},
          "execution_count": 124
        }
      ]
    },
    {
      "cell_type": "code",
      "source": [
        "quantity_left_over = np.array(quantity_left_over)\n",
        "type(price_array)"
      ],
      "metadata": {
        "colab": {
          "base_uri": "https://localhost:8080/"
        },
        "id": "OUf4xziFMS8_",
        "outputId": "b77d98b9-f892-4044-e653-1dbecba6e7e1"
      },
      "execution_count": null,
      "outputs": [
        {
          "output_type": "execute_result",
          "data": {
            "text/plain": [
              "numpy.ndarray"
            ]
          },
          "metadata": {},
          "execution_count": 125
        }
      ]
    },
    {
      "cell_type": "code",
      "source": [
        "price_discounted = np.array([0,0,0.5,0.5,0.5,0,0.5])\n",
        "discounted_prices = price_array * price_discounted"
      ],
      "metadata": {
        "id": "iyKKJkcoMle9"
      },
      "execution_count": null,
      "outputs": []
    },
    {
      "cell_type": "code",
      "source": [
        "discounted_prices"
      ],
      "metadata": {
        "colab": {
          "base_uri": "https://localhost:8080/"
        },
        "id": "BeDBNoKJNzCZ",
        "outputId": "1b28ab7e-b8e8-4551-add6-befd100d5ee8"
      },
      "execution_count": null,
      "outputs": [
        {
          "output_type": "execute_result",
          "data": {
            "text/plain": [
              "array([0.  , 0.  , 6.  , 3.5 , 2.25, 0.  , 2.  ])"
            ]
          },
          "metadata": {},
          "execution_count": 127
        }
      ]
    },
    {
      "cell_type": "code",
      "source": [
        "clearance_sale = discounted_prices * quantity_left_over"
      ],
      "metadata": {
        "id": "IsHV9PUnN_eG"
      },
      "execution_count": null,
      "outputs": []
    },
    {
      "cell_type": "code",
      "source": [
        "clearance_sale"
      ],
      "metadata": {
        "colab": {
          "base_uri": "https://localhost:8080/"
        },
        "id": "ncLeu4hYQNiC",
        "outputId": "e987966c-a076-4cb7-aca5-62a5a5eac036"
      },
      "execution_count": null,
      "outputs": [
        {
          "output_type": "execute_result",
          "data": {
            "text/plain": [
              "array([ 0. ,  0. , 12. ,  3.5, 13.5,  0. ,  4. ])"
            ]
          },
          "metadata": {},
          "execution_count": 129
        }
      ]
    },
    {
      "cell_type": "code",
      "source": [
        "(clearance_sale + money_collected_bakesale).sum()"
      ],
      "metadata": {
        "colab": {
          "base_uri": "https://localhost:8080/"
        },
        "id": "vda50sRbQYue",
        "outputId": "eb9bc6f0-b940-4864-c0dc-902732646b9c"
      },
      "execution_count": null,
      "outputs": [
        {
          "output_type": "execute_result",
          "data": {
            "text/plain": [
              "213.5"
            ]
          },
          "metadata": {},
          "execution_count": 130
        }
      ]
    }
  ]
}