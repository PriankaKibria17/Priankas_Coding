{
  "nbformat": 4,
  "nbformat_minor": 0,
  "metadata": {
    "colab": {
      "name": "Histograms & Boxplot (CORE).ipynb",
      "provenance": [],
      "collapsed_sections": [],
      "authorship_tag": "ABX9TyMWzx0SO/hwsO7hJmmrOziL",
      "include_colab_link": true
    },
    "kernelspec": {
      "name": "python3",
      "display_name": "Python 3"
    },
    "language_info": {
      "name": "python"
    }
  },
  "cells": [
    {
      "cell_type": "markdown",
      "metadata": {
        "id": "view-in-github",
        "colab_type": "text"
      },
      "source": [
        "<a href=\"https://colab.research.google.com/github/PriankaKibria17/Priankas_Coding/blob/main/Histograms_%26_Boxplot_(CORE).ipynb\" target=\"_parent\"><img src=\"https://colab.research.google.com/assets/colab-badge.svg\" alt=\"Open In Colab\"/></a>"
      ]
    },
    {
      "cell_type": "markdown",
      "source": [
        "# Histograms & Boxplot Cat & Dog Ownership\n",
        "\n",
        "Prianka Kibria  \n",
        "\n",
        "3.7.22"
      ],
      "metadata": {
        "id": "qVFVo4Tc7E0Y"
      }
    },
    {
      "cell_type": "code",
      "source": [
        "# mounting\n",
        "from google.colab import drive\n",
        "drive.mount('/content/drive')"
      ],
      "metadata": {
        "colab": {
          "base_uri": "https://localhost:8080/"
        },
        "id": "Gd8cRHCn7N_R",
        "outputId": "c91bc1ba-7314-41be-aae4-cc4dcdc076f4"
      },
      "execution_count": 279,
      "outputs": [
        {
          "output_type": "stream",
          "name": "stdout",
          "text": [
            "Drive already mounted at /content/drive; to attempt to forcibly remount, call drive.mount(\"/content/drive\", force_remount=True).\n"
          ]
        }
      ]
    },
    {
      "cell_type": "code",
      "source": [
        "# importing libraries\n",
        "import matplotlib.pyplot as plt\n",
        "import seaborn as sns\n",
        "import pandas as pd\n",
        "import numpy as np\n"
      ],
      "metadata": {
        "id": "kugC3pPD7Xw4"
      },
      "execution_count": 280,
      "outputs": []
    },
    {
      "cell_type": "code",
      "source": [
        "# importing data set\n",
        "filename = '/content/drive/MyDrive/data/catsvdogs.xlsx'\n",
        "df = pd.read_excel(filename)\n",
        "df.head()"
      ],
      "metadata": {
        "colab": {
          "base_uri": "https://localhost:8080/",
          "height": 208
        },
        "id": "bWsf0YTi7bU8",
        "outputId": "5dc09eba-c5a3-430d-8b28-3542c962f3ba"
      },
      "execution_count": 281,
      "outputs": [
        {
          "output_type": "execute_result",
          "data": {
            "text/html": [
              "\n",
              "  <div id=\"df-cf36f5e5-9388-4329-a2a9-906ed126237d\">\n",
              "    <div class=\"colab-df-container\">\n",
              "      <div>\n",
              "<style scoped>\n",
              "    .dataframe tbody tr th:only-of-type {\n",
              "        vertical-align: middle;\n",
              "    }\n",
              "\n",
              "    .dataframe tbody tr th {\n",
              "        vertical-align: top;\n",
              "    }\n",
              "\n",
              "    .dataframe thead th {\n",
              "        text-align: right;\n",
              "    }\n",
              "</style>\n",
              "<table border=\"1\" class=\"dataframe\">\n",
              "  <thead>\n",
              "    <tr style=\"text-align: right;\">\n",
              "      <th></th>\n",
              "      <th>Location</th>\n",
              "      <th>Number of Households (in 1000)</th>\n",
              "      <th>Percentage of households with pets</th>\n",
              "      <th>Number of Pet Households (in 1000)</th>\n",
              "      <th>Percentage of Dog Owners</th>\n",
              "      <th>Dog Owning Households (1000s)</th>\n",
              "      <th>Mean Number of Dogs per household</th>\n",
              "      <th>Dog Population (in 1000)</th>\n",
              "      <th>Percentage of Cat Owners</th>\n",
              "      <th>Cat Owning Households</th>\n",
              "      <th>Mean Number of Cats</th>\n",
              "      <th>Cat Population</th>\n",
              "    </tr>\n",
              "  </thead>\n",
              "  <tbody>\n",
              "    <tr>\n",
              "      <th>0</th>\n",
              "      <td>Alabama</td>\n",
              "      <td>1828</td>\n",
              "      <td>59.5</td>\n",
              "      <td>1088</td>\n",
              "      <td>44.1</td>\n",
              "      <td>807</td>\n",
              "      <td>1.7</td>\n",
              "      <td>1410</td>\n",
              "      <td>27.4</td>\n",
              "      <td>501</td>\n",
              "      <td>2.5</td>\n",
              "      <td>1252</td>\n",
              "    </tr>\n",
              "    <tr>\n",
              "      <th>1</th>\n",
              "      <td>Arizona</td>\n",
              "      <td>2515</td>\n",
              "      <td>59.5</td>\n",
              "      <td>1497</td>\n",
              "      <td>40.1</td>\n",
              "      <td>1008</td>\n",
              "      <td>1.8</td>\n",
              "      <td>1798</td>\n",
              "      <td>29.6</td>\n",
              "      <td>743</td>\n",
              "      <td>1.9</td>\n",
              "      <td>1438</td>\n",
              "    </tr>\n",
              "    <tr>\n",
              "      <th>2</th>\n",
              "      <td>Arkansas</td>\n",
              "      <td>1148</td>\n",
              "      <td>62.4</td>\n",
              "      <td>716</td>\n",
              "      <td>47.9</td>\n",
              "      <td>550</td>\n",
              "      <td>2.0</td>\n",
              "      <td>1097</td>\n",
              "      <td>30.6</td>\n",
              "      <td>351</td>\n",
              "      <td>2.3</td>\n",
              "      <td>810</td>\n",
              "    </tr>\n",
              "    <tr>\n",
              "      <th>3</th>\n",
              "      <td>California</td>\n",
              "      <td>12974</td>\n",
              "      <td>52.9</td>\n",
              "      <td>6865</td>\n",
              "      <td>32.8</td>\n",
              "      <td>4260</td>\n",
              "      <td>1.6</td>\n",
              "      <td>6687</td>\n",
              "      <td>28.3</td>\n",
              "      <td>3687</td>\n",
              "      <td>1.9</td>\n",
              "      <td>7118</td>\n",
              "    </tr>\n",
              "    <tr>\n",
              "      <th>4</th>\n",
              "      <td>Colorado</td>\n",
              "      <td>1986</td>\n",
              "      <td>61.3</td>\n",
              "      <td>1217</td>\n",
              "      <td>42.5</td>\n",
              "      <td>845</td>\n",
              "      <td>1.6</td>\n",
              "      <td>1349</td>\n",
              "      <td>32.3</td>\n",
              "      <td>642</td>\n",
              "      <td>1.9</td>\n",
              "      <td>1191</td>\n",
              "    </tr>\n",
              "  </tbody>\n",
              "</table>\n",
              "</div>\n",
              "      <button class=\"colab-df-convert\" onclick=\"convertToInteractive('df-cf36f5e5-9388-4329-a2a9-906ed126237d')\"\n",
              "              title=\"Convert this dataframe to an interactive table.\"\n",
              "              style=\"display:none;\">\n",
              "        \n",
              "  <svg xmlns=\"http://www.w3.org/2000/svg\" height=\"24px\"viewBox=\"0 0 24 24\"\n",
              "       width=\"24px\">\n",
              "    <path d=\"M0 0h24v24H0V0z\" fill=\"none\"/>\n",
              "    <path d=\"M18.56 5.44l.94 2.06.94-2.06 2.06-.94-2.06-.94-.94-2.06-.94 2.06-2.06.94zm-11 1L8.5 8.5l.94-2.06 2.06-.94-2.06-.94L8.5 2.5l-.94 2.06-2.06.94zm10 10l.94 2.06.94-2.06 2.06-.94-2.06-.94-.94-2.06-.94 2.06-2.06.94z\"/><path d=\"M17.41 7.96l-1.37-1.37c-.4-.4-.92-.59-1.43-.59-.52 0-1.04.2-1.43.59L10.3 9.45l-7.72 7.72c-.78.78-.78 2.05 0 2.83L4 21.41c.39.39.9.59 1.41.59.51 0 1.02-.2 1.41-.59l7.78-7.78 2.81-2.81c.8-.78.8-2.07 0-2.86zM5.41 20L4 18.59l7.72-7.72 1.47 1.35L5.41 20z\"/>\n",
              "  </svg>\n",
              "      </button>\n",
              "      \n",
              "  <style>\n",
              "    .colab-df-container {\n",
              "      display:flex;\n",
              "      flex-wrap:wrap;\n",
              "      gap: 12px;\n",
              "    }\n",
              "\n",
              "    .colab-df-convert {\n",
              "      background-color: #E8F0FE;\n",
              "      border: none;\n",
              "      border-radius: 50%;\n",
              "      cursor: pointer;\n",
              "      display: none;\n",
              "      fill: #1967D2;\n",
              "      height: 32px;\n",
              "      padding: 0 0 0 0;\n",
              "      width: 32px;\n",
              "    }\n",
              "\n",
              "    .colab-df-convert:hover {\n",
              "      background-color: #E2EBFA;\n",
              "      box-shadow: 0px 1px 2px rgba(60, 64, 67, 0.3), 0px 1px 3px 1px rgba(60, 64, 67, 0.15);\n",
              "      fill: #174EA6;\n",
              "    }\n",
              "\n",
              "    [theme=dark] .colab-df-convert {\n",
              "      background-color: #3B4455;\n",
              "      fill: #D2E3FC;\n",
              "    }\n",
              "\n",
              "    [theme=dark] .colab-df-convert:hover {\n",
              "      background-color: #434B5C;\n",
              "      box-shadow: 0px 1px 3px 1px rgba(0, 0, 0, 0.15);\n",
              "      filter: drop-shadow(0px 1px 2px rgba(0, 0, 0, 0.3));\n",
              "      fill: #FFFFFF;\n",
              "    }\n",
              "  </style>\n",
              "\n",
              "      <script>\n",
              "        const buttonEl =\n",
              "          document.querySelector('#df-cf36f5e5-9388-4329-a2a9-906ed126237d button.colab-df-convert');\n",
              "        buttonEl.style.display =\n",
              "          google.colab.kernel.accessAllowed ? 'block' : 'none';\n",
              "\n",
              "        async function convertToInteractive(key) {\n",
              "          const element = document.querySelector('#df-cf36f5e5-9388-4329-a2a9-906ed126237d');\n",
              "          const dataTable =\n",
              "            await google.colab.kernel.invokeFunction('convertToInteractive',\n",
              "                                                     [key], {});\n",
              "          if (!dataTable) return;\n",
              "\n",
              "          const docLinkHtml = 'Like what you see? Visit the ' +\n",
              "            '<a target=\"_blank\" href=https://colab.research.google.com/notebooks/data_table.ipynb>data table notebook</a>'\n",
              "            + ' to learn more about interactive tables.';\n",
              "          element.innerHTML = '';\n",
              "          dataTable['output_type'] = 'display_data';\n",
              "          await google.colab.output.renderOutput(dataTable, element);\n",
              "          const docLink = document.createElement('div');\n",
              "          docLink.innerHTML = docLinkHtml;\n",
              "          element.appendChild(docLink);\n",
              "        }\n",
              "      </script>\n",
              "    </div>\n",
              "  </div>\n",
              "  "
            ],
            "text/plain": [
              "     Location  Number of Households (in 1000)  \\\n",
              "0     Alabama                            1828   \n",
              "1     Arizona                            2515   \n",
              "2    Arkansas                            1148   \n",
              "3  California                           12974   \n",
              "4    Colorado                            1986   \n",
              "\n",
              "   Percentage of households with pets  Number of Pet Households (in 1000)  \\\n",
              "0                                59.5                                1088   \n",
              "1                                59.5                                1497   \n",
              "2                                62.4                                 716   \n",
              "3                                52.9                                6865   \n",
              "4                                61.3                                1217   \n",
              "\n",
              "   Percentage of Dog Owners  Dog Owning Households (1000s)  \\\n",
              "0                      44.1                            807   \n",
              "1                      40.1                           1008   \n",
              "2                      47.9                            550   \n",
              "3                      32.8                           4260   \n",
              "4                      42.5                            845   \n",
              "\n",
              "   Mean Number of Dogs per household  Dog Population (in 1000)  \\\n",
              "0                                1.7                      1410   \n",
              "1                                1.8                      1798   \n",
              "2                                2.0                      1097   \n",
              "3                                1.6                      6687   \n",
              "4                                1.6                      1349   \n",
              "\n",
              "   Percentage of Cat Owners  Cat Owning Households  Mean Number of Cats  \\\n",
              "0                      27.4                    501                  2.5   \n",
              "1                      29.6                    743                  1.9   \n",
              "2                      30.6                    351                  2.3   \n",
              "3                      28.3                   3687                  1.9   \n",
              "4                      32.3                    642                  1.9   \n",
              "\n",
              "   Cat Population  \n",
              "0            1252  \n",
              "1            1438  \n",
              "2             810  \n",
              "3            7118  \n",
              "4            1191  "
            ]
          },
          "metadata": {},
          "execution_count": 281
        }
      ]
    },
    {
      "cell_type": "markdown",
      "source": [
        "1. Plot a histogram of the Percentage of Dog Owners.\n",
        "\n",
        "\n"
      ],
      "metadata": {
        "id": "-kT3jxcr74Hk"
      }
    },
    {
      "cell_type": "code",
      "source": [
        "# taking a look at the 'Percentage of dog owners' column\n",
        "df['Percentage of Dog Owners']"
      ],
      "metadata": {
        "colab": {
          "base_uri": "https://localhost:8080/"
        },
        "id": "KEtEZbUC8J5t",
        "outputId": "f520810d-a543-4c4b-e13f-b2936c8ad405"
      },
      "execution_count": 282,
      "outputs": [
        {
          "output_type": "execute_result",
          "data": {
            "text/plain": [
              "0     44.1\n",
              "1     40.1\n",
              "2     47.9\n",
              "3     32.8\n",
              "4     42.5\n",
              "5     28.3\n",
              "6     33.7\n",
              "7     13.1\n",
              "8     35.7\n",
              "9     40.1\n",
              "10    42.7\n",
              "11    32.4\n",
              "12    39.9\n",
              "13    33.4\n",
              "14    42.3\n",
              "15    45.9\n",
              "16    36.4\n",
              "17    34.6\n",
              "18    30.8\n",
              "19    23.6\n",
              "20    34.6\n",
              "21    31.9\n",
              "22    45.2\n",
              "23    45.9\n",
              "24    41.2\n",
              "25    33.8\n",
              "26    37.1\n",
              "27    30.3\n",
              "28    32.4\n",
              "29    46.0\n",
              "30    29.0\n",
              "31    40.3\n",
              "32    36.1\n",
              "33    36.6\n",
              "34    43.2\n",
              "35    38.8\n",
              "36    32.9\n",
              "37    29.3\n",
              "38    38.6\n",
              "39    42.8\n",
              "40    44.1\n",
              "41    44.0\n",
              "42    29.4\n",
              "43    37.7\n",
              "44    35.4\n",
              "45    36.3\n",
              "46    45.8\n",
              "47    33.9\n",
              "48    38.8\n",
              "Name: Percentage of Dog Owners, dtype: float64"
            ]
          },
          "metadata": {},
          "execution_count": 282
        }
      ]
    },
    {
      "cell_type": "code",
      "source": [
        "# a default histogram of the percentage of dog owners\n",
        "df['Percentage of Dog Owners'].hist();"
      ],
      "metadata": {
        "colab": {
          "base_uri": "https://localhost:8080/",
          "height": 262
        },
        "id": "q3oZzE9X8TkT",
        "outputId": "847c36e7-e945-475e-d285-09b1e929b998"
      },
      "execution_count": 283,
      "outputs": [
        {
          "output_type": "display_data",
          "data": {
            "image/png": "[encoded data removed]",
            "text/plain": [
              "<Figure size 540x252 with 1 Axes>"
            ]
          },
          "metadata": {
            "needs_background": "light"
          }
        }
      ]
    },
    {
      "cell_type": "markdown",
      "source": [
        "2. Plot a histogram of the Percentage of Cat Owners."
      ],
      "metadata": {
        "id": "kqJ6t_2h746f"
      }
    },
    {
      "cell_type": "code",
      "source": [
        "# taking a look at the percetnage of cats column \n",
        "df['Percentage of Cat Owners']"
      ],
      "metadata": {
        "colab": {
          "base_uri": "https://localhost:8080/"
        },
        "id": "fRPP4yB03N4X",
        "outputId": "ba27b4c7-0935-4a4e-e743-54a3d3976051"
      },
      "execution_count": 284,
      "outputs": [
        {
          "output_type": "execute_result",
          "data": {
            "text/plain": [
              "0     27.4\n",
              "1     29.6\n",
              "2     30.6\n",
              "3     28.3\n",
              "4     32.3\n",
              "5     31.9\n",
              "6     33.7\n",
              "7     11.6\n",
              "8     27.3\n",
              "9     27.3\n",
              "10    34.6\n",
              "11    26.3\n",
              "12    34.4\n",
              "13    30.3\n",
              "14    33.3\n",
              "15    36.8\n",
              "16    25.9\n",
              "17    46.4\n",
              "18    29.8\n",
              "19    34.1\n",
              "20    31.3\n",
              "21    29.7\n",
              "22    29.1\n",
              "23    32.2\n",
              "24    33.6\n",
              "25    31.3\n",
              "26    30.3\n",
              "27    34.2\n",
              "28    25.3\n",
              "29    32.0\n",
              "30    29.1\n",
              "31    29.5\n",
              "32    31.4\n",
              "33    33.3\n",
              "34    32.6\n",
              "35    40.2\n",
              "36    33.8\n",
              "37    27.6\n",
              "38    27.8\n",
              "39    39.1\n",
              "40    29.8\n",
              "41    28.3\n",
              "42    24.6\n",
              "43    49.5\n",
              "44    29.0\n",
              "45    39.0\n",
              "46    38.1\n",
              "47    33.0\n",
              "48    33.9\n",
              "Name: Percentage of Cat Owners, dtype: float64"
            ]
          },
          "metadata": {},
          "execution_count": 284
        }
      ]
    },
    {
      "cell_type": "code",
      "source": [
        "# a default histogram of the percentage of cat owners\n",
        "df['Percentage of Cat Owners'].hist();"
      ],
      "metadata": {
        "colab": {
          "base_uri": "https://localhost:8080/",
          "height": 262
        },
        "id": "ntR6IdPC81H_",
        "outputId": "3360b05d-bf06-4234-bb08-c761ce0123a2"
      },
      "execution_count": 285,
      "outputs": [
        {
          "output_type": "display_data",
          "data": {
            "image/png": "[encoded data removed]",
            "text/plain": [
              "<Figure size 540x252 with 1 Axes>"
            ]
          },
          "metadata": {
            "needs_background": "light"
          }
        }
      ]
    },
    {
      "cell_type": "markdown",
      "source": [
        "3a. What can we see by comparing these two histograms? What information does this tell us?\n",
        "\n",
        "3b. Optional/Bonus: plot these two histograms on the same plot. An example of what this could look like is given below:"
      ],
      "metadata": {
        "id": "Fp4G6Xm276qi"
      }
    },
    {
      "cell_type": "code",
      "source": [
        "# using pandas .hist to plot both cat and dog percentages\n",
        "\n",
        "#plot 1: dog distribution\n",
        "ax = df['Percentage of Dog Owners'].hist(figsize=(8,4),bins='auto', legend=True)\n",
        "#plot 2: cat distribution\n",
        "ax = df['Percentage of Cat Owners'].hist(figsize=(8,4),bins='auto', legend=True)\n",
        "\n",
        "#naming my X & Y label and adding a title\n",
        "ax.set(xlabel=\" % of Animal Owners\", ylabel=\"Count\", \n",
        "       title='Percentages of Animal Owners: Dog & Cat')\n",
        "#displaying my\n",
        "\n",
        "\n",
        "ax.legend();"
      ],
      "metadata": {
        "id": "Wcxxqh5m-PMq",
        "colab": {
          "base_uri": "https://localhost:8080/",
          "height": 298
        },
        "outputId": "705eaa5e-c6e6-477d-c0db-2574bde8a7df"
      },
      "execution_count": 286,
      "outputs": [
        {
          "output_type": "display_data",
          "data": {
            "image/png": "[encoded data removed]",
            "text/plain": [
              "<Figure size 576x288 with 1 Axes>"
            ]
          },
          "metadata": {
            "needs_background": "light"
          }
        }
      ]
    },
    {
      "cell_type": "markdown",
      "source": [
        "We can tell by the shape of the grap that Dog and Cat owner distributions vary. \n",
        "\n",
        "It looks like around 34% of animal owners own cat and dogs equally at count 14. Most the of data is here in the center..\n",
        "\n",
        "Ultimately, it appears that there are slightly more dog owners than cat owners."
      ],
      "metadata": {
        "id": "zkRHtCMIdokV"
      }
    },
    {
      "cell_type": "markdown",
      "source": [
        "4. Create two boxplots on the same plot: one of the mean number of cats per household and the other of the mean number of dogs. "
      ],
      "metadata": {
        "id": "_6pe-14Q792o"
      }
    },
    {
      "cell_type": "code",
      "source": [
        "#setting style\n",
        "sns.set(style='whitegrid')\n",
        "\n",
        "fig, ax = plt.subplots(figsize=(8,6))\n",
        "\n",
        "g = sns.boxplot(data=df[['Mean Number of Cats', 'Mean Number of Dogs per household']], width = 0.7, notch = True               )\n",
        "#title name\n",
        "plt.title('Mean of Cats & Dogs Per Household', fontsize=10)\n",
        "\n",
        "plt.show()\n",
        "\n",
        "# Reference: Chart Explorers.\"BOXPLOTS | How to make boxplots with Python (Seaborn & Matplotlib) The fast & the beautiful way.\" Sep 4, 2020. Youtube. Accessed 3.9.22 (https://www.youtube.com/watch?v=IdksHfKJL2A)"
      ],
      "metadata": {
        "colab": {
          "base_uri": "https://localhost:8080/",
          "height": 438
        },
        "id": "JJHdoA6gVchS",
        "outputId": "d5c05e8f-c552-4315-ab0f-e84df02fc216"
      },
      "execution_count": 303,
      "outputs": [
        {
          "output_type": "display_data",
          "data": {
            "image/png": "[encoded data removed]",
            "text/plain": [
              "<Figure size 576x432 with 1 Axes>"
            ]
          },
          "metadata": {}
        }
      ]
    },
    {
      "cell_type": "markdown",
      "source": [
        "5. What can we see by comparing these two boxplots? What information does this tell us?\n",
        "\n",
        "- We can see that there are no outliers to further analyze.\n",
        "- We can see that the Q1 for cat is approximately 1.9 and for dog is 1.4. This means 25% of cat and dogs data is there.\n",
        "- The cat median value Q2 is 2.0, the dog's median value is 1.6. Which means 50% of cat's data is aroind 2.0 and 50% dogs data is around 1.6. \n",
        "- We can see that Q3 for cat is 2.2 and for dog is approximately 1.7. 75% of cat and dog information lies there.\n",
        "- The whiskers for cat is at 2.6 and for dog is 2.1 which is the max. \n",
        "- The bottom whisters for cat 1.7 and for dog is around 1.0 which is the min.\n",
        "\n",
        "Using this data we can determine the deviations between the mean of cat and dog owners. As we can see there lies a large deviation between the ranges of the two. However cat has a larger range. And since the boxes are not overlapping here we can conclude that 95% confidence that the true medians differ."
      ],
      "metadata": {
        "id": "tSFDaJgW7_6E"
      }
    }
  ]
}