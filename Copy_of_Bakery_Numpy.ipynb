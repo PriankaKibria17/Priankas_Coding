{
  "nbformat": 4,
  "nbformat_minor": 0,
  "metadata": {
    "colab": {
      "name": "Copy of Bakery Numpy.ipynb",
      "provenance": [],
      "collapsed_sections": [],
      "authorship_tag": "ABX9TyM0QRHvCzzaaooTCMxjB/Q+",
      "include_colab_link": true
    },
    "kernelspec": {
      "name": "python3",
      "display_name": "Python 3"
    },
    "language_info": {
      "name": "python"
    }
  },
  "cells": [
    {
      "cell_type": "markdown",
      "metadata": {
        "id": "view-in-github",
        "colab_type": "text"
      },
      "source": [
        "<a href=\"https://colab.research.google.com/github/PriankaKibria17/Coursera-test/blob/Practice/Copy_of_Bakery_Numpy.ipynb\" target=\"_parent\"><img src=\"https://colab.research.google.com/assets/colab-badge.svg\" alt=\"Open In Colab\"/></a>"
      ]
    },
    {
      "cell_type": "markdown",
      "source": [
        "Teens for a tech club asked to help analyze data for their bake sale. They are hoping to raise $200."
      ],
      "metadata": {
        "id": "fBU9HQcdONWb"
      }
    },
    {
      "cell_type": "code",
      "source": [
        "# Selling prices are 2 dollars brownies, 1 for a cookie, 10 for a cake\n",
        "# Assigning the values to a list named price\n",
        "price = [2, 1, 10]\n",
        "type(price)"
      ],
      "metadata": {
        "colab": {
          "base_uri": "https://localhost:8080/"
        },
        "id": "DXi4LRLPOVNB",
        "outputId": "f7ae9962-ff76-4107-e1b9-bba1397104a5"
      },
      "execution_count": null,
      "outputs": [
        {
          "output_type": "execute_result",
          "data": {
            "text/plain": [
              "list"
            ]
          },
          "metadata": {},
          "execution_count": 2
        }
      ]
    },
    {
      "cell_type": "code",
      "source": [
        "# The club sells 17 brownies, 40 cookies and 1 cake\n",
        "# Assigning the values to a list named quantity_sold\n",
        "quantity_sold = [17, 40, 1]\n",
        "type(quantity_sold)"
      ],
      "metadata": {
        "colab": {
          "base_uri": "https://localhost:8080/"
        },
        "id": "PAmJlnaiPauX",
        "outputId": "e79bd0fb-0f7b-42f5-b7aa-2034f0d17218"
      },
      "execution_count": null,
      "outputs": [
        {
          "output_type": "execute_result",
          "data": {
            "text/plain": [
              "list"
            ]
          },
          "metadata": {},
          "execution_count": 3
        }
      ]
    },
    {
      "cell_type": "code",
      "source": [
        "# importing numpy\n",
        "import numpy as np "
      ],
      "metadata": {
        "id": "0tWtmRcRRGaV"
      },
      "execution_count": null,
      "outputs": []
    },
    {
      "cell_type": "code",
      "source": [
        "# converting a list to a numpy array\n",
        "price_array = np.array(price)\n",
        "quantity_sold_array = np.array(quantity_sold)\n",
        "type(price_array)"
      ],
      "metadata": {
        "colab": {
          "base_uri": "https://localhost:8080/"
        },
        "id": "Ct2cqcGFR558",
        "outputId": "4aaaa396-d445-4ef1-b902-cf7862ac7c14"
      },
      "execution_count": null,
      "outputs": [
        {
          "output_type": "execute_result",
          "data": {
            "text/plain": [
              "numpy.ndarray"
            ]
          },
          "metadata": {},
          "execution_count": 5
        }
      ]
    },
    {
      "cell_type": "code",
      "source": [
        "# Now we can perform calculations w/arrays\n",
        "price_array * quantity_sold_array"
      ],
      "metadata": {
        "colab": {
          "base_uri": "https://localhost:8080/"
        },
        "id": "4x3v4mgkSkQl",
        "outputId": "b0c00d92-c359-41d9-8ff4-eabd0b145029"
      },
      "execution_count": null,
      "outputs": [
        {
          "output_type": "execute_result",
          "data": {
            "text/plain": [
              "array([34, 40, 10])"
            ]
          },
          "metadata": {},
          "execution_count": 6
        }
      ]
    },
    {
      "cell_type": "code",
      "source": [
        "# numpy array that corresponds to the cost to make ea. of the items sold at a bake sale\n",
        "# Price to make ea. item a brownie 0.25, cookie 0.50, cake 5 dollars\n",
        "cost_array = np.array( [0.25, 0.50, 5.00] )"
      ],
      "metadata": {
        "id": "zPr4oQrkWBBz"
      },
      "execution_count": null,
      "outputs": []
    },
    {
      "cell_type": "code",
      "source": [
        "# Subtracting to find the profit of ea. item \n",
        "profit_array = price_array - cost_array\n",
        "print(profit_array)"
      ],
      "metadata": {
        "colab": {
          "base_uri": "https://localhost:8080/"
        },
        "id": "Bbxds_hYXbVA",
        "outputId": "94c38cfe-3a8b-40c9-cc47-b8e46287b523"
      },
      "execution_count": null,
      "outputs": [
        {
          "output_type": "stream",
          "name": "stdout",
          "text": [
            "[1.75 0.5  5.  ]\n"
          ]
        }
      ]
    },
    {
      "cell_type": "code",
      "source": [
        "# Identifying which items made a profit greater than $2 per item\n",
        "# By asking a T/F statement for ea. element\n",
        "profit_array > 2.00"
      ],
      "metadata": {
        "colab": {
          "base_uri": "https://localhost:8080/"
        },
        "id": "Mlp9mCZyZA8z",
        "outputId": "c830cec8-65f3-4e3b-fe6e-d763bbb42f8c"
      },
      "execution_count": null,
      "outputs": [
        {
          "output_type": "execute_result",
          "data": {
            "text/plain": [
              "array([False, False,  True])"
            ]
          },
          "metadata": {},
          "execution_count": 9
        }
      ]
    },
    {
      "cell_type": "code",
      "source": [
        "# Need to update that we also sell pies for $7 so we need to update our price array\n",
        "# the below will not give the output we want because it will add 7 to each of our array\n",
        "price_array = price_array + 7\n",
        "print(price_array)"
      ],
      "metadata": {
        "colab": {
          "base_uri": "https://localhost:8080/"
        },
        "id": "0_x47LTWaJ7i",
        "outputId": "ca02d559-822c-4b2a-9e52-684cfd811194"
      },
      "execution_count": null,
      "outputs": [
        {
          "output_type": "stream",
          "name": "stdout",
          "text": [
            "[ 9  8 17]\n"
          ]
        }
      ]
    },
    {
      "cell_type": "code",
      "source": [
        "# To fix the added 7 to each element we will subtract\n",
        "price_array = price_array - [7]"
      ],
      "metadata": {
        "id": "v-kJqF1IbjpU"
      },
      "execution_count": null,
      "outputs": []
    },
    {
      "cell_type": "code",
      "source": [
        "# using the np.append functionto include the value as previously desired\n",
        "price_array = np.append(price_array, 7)\n",
        "print(price_array)"
      ],
      "metadata": {
        "colab": {
          "base_uri": "https://localhost:8080/"
        },
        "id": "O6X34-TqbvPS",
        "outputId": "c1f5b9de-3c87-4d9a-bcdd-20d02ccfd7cb"
      },
      "execution_count": null,
      "outputs": [
        {
          "output_type": "stream",
          "name": "stdout",
          "text": [
            "[ 2  1 10  7]\n"
          ]
        }
      ]
    },
    {
      "cell_type": "code",
      "source": [
        "# you can append multiple values at once to the array in one command using brackets\n",
        "# note the use of np.append\n",
        "# Note the use of square brackets in the code that appends all of the values\n",
        "# adding $4.50 for fudge, $3 for cupcake, $4 for loaf of banana and $9 for tarte\n",
        "price_array = np.append(price_array,[4.50,3,4,9] )\n",
        "print(price_array)"
      ],
      "metadata": {
        "colab": {
          "base_uri": "https://localhost:8080/"
        },
        "id": "J3pWMlI7d60c",
        "outputId": "feeaf50b-389a-45f7-ac50-c2e7bd2169c7"
      },
      "execution_count": null,
      "outputs": [
        {
          "output_type": "stream",
          "name": "stdout",
          "text": [
            "[ 2.   1.  10.   7.   4.5  3.   4.   9. ]\n"
          ]
        }
      ]
    },
    {
      "cell_type": "code",
      "source": [
        "# To check data type of elements within the array\n",
        "print(price_array.dtype)"
      ],
      "metadata": {
        "colab": {
          "base_uri": "https://localhost:8080/"
        },
        "id": "nVeosv2jf7ht",
        "outputId": "a7127195-893d-41c2-d402-7d7fd6974545"
      },
      "execution_count": null,
      "outputs": [
        {
          "output_type": "stream",
          "name": "stdout",
          "text": [
            "float64\n"
          ]
        }
      ]
    },
    {
      "cell_type": "code",
      "source": [
        "# deleting price from the array\n",
        "# no tortes\n",
        "# note the use of np.delete command & indication of what exactly is being deleted\n",
        "price_array = np.delete(price_array, -1)\n",
        "print(price_array)"
      ],
      "metadata": {
        "colab": {
          "base_uri": "https://localhost:8080/"
        },
        "id": "9yNG3uJwhzFw",
        "outputId": "dbc0b18d-f93c-425a-8d24-45d72246e052"
      },
      "execution_count": null,
      "outputs": [
        {
          "output_type": "stream",
          "name": "stdout",
          "text": [
            "[ 2.   1.  10.   7.   4.5  3.   4. ]\n"
          ]
        }
      ]
    },
    {
      "cell_type": "code",
      "source": [
        "# we want to replace an element\n",
        "# price change for cakes from 10 to 12\n",
        "# note the index - cake is index 2\n",
        "price_array[2] = 12\n",
        "print(price_array)"
      ],
      "metadata": {
        "colab": {
          "base_uri": "https://localhost:8080/"
        },
        "id": "QHkpVmBAixun",
        "outputId": "ab00684d-5122-4395-ee32-a0785a820203"
      },
      "execution_count": null,
      "outputs": [
        {
          "output_type": "stream",
          "name": "stdout",
          "text": [
            "[ 2.   1.  12.   7.   4.5  3.   4. ]\n"
          ]
        }
      ]
    }
  ]
}